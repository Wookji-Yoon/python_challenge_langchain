{
 "cells": [
  {
   "cell_type": "markdown",
   "metadata": {},
   "source": [
    "새로운 Jupyter notebook에서 리서치 AI 에이전트를 만들고 커스텀 도구를 부여합니다.\n",
    "에이전트는 다음 작업을 수행할 수 있어야 합니다:\n",
    "Wikipedia에서 검색\n",
    "DuckDuckGo에서 검색\n",
    "웹사이트의 텍스트를 스크랩하고 추출합니다.\n",
    "리서치 결과를 .txt 파일에 저장하기\n",
    "다음 쿼리로 에이전트를 실행합니다:\n",
    "\"Research about the XZ backdoor\" 라는 쿼리로 에이전트를 실행하면,\n",
    "에이전트는 Wikipedia 또는 DuckDuckGo에서 검색을 시도하고,\n",
    "DuckDuckGo에서 웹사이트를 찾으면 해당 웹사이트에 들어가서 콘텐츠를 추출한 다음,\n",
    ".txt 파일에 조사 내용을 저장하는 것으로 완료해야 합니다.\n"
   ]
  },
  {
   "cell_type": "code",
   "execution_count": 1,
   "metadata": {},
   "outputs": [],
   "source": [
    "from langchain.chat_models import ChatOpenAI\n",
    "\n",
    "chat_model = ChatOpenAI(temperature=0.1, model_name=\"gpt-3.5-turbo-1106\")"
   ]
  },
  {
   "cell_type": "code",
   "execution_count": 4,
   "metadata": {},
   "outputs": [],
   "source": [
    "from langchain.tools import BaseTool\n",
    "from typing import Type\n",
    "from pydantic import BaseModel, Field\n",
    "from langchain.utilities import (\n",
    "    DuckDuckGoSearchAPIWrapper,\n",
    "    WikipediaAPIWrapper,\n",
    ")\n",
    "\n",
    "\n",
    "class QueryArgsSchema(BaseModel):\n",
    "    query: str = Field(\n",
    "        description=\"The query you will research for. Example query: Research about the XZ backdoor\"\n",
    "    )\n",
    "\n",
    "\n",
    "class DuckduckgoSearchTool(BaseTool):\n",
    "    name = \"DuckduckgoSearchTool\"\n",
    "    description = \"\"\"\n",
    "    Use this tool to research about the query in Duckduckgo search engine.\n",
    "    It takes a query as an argument\n",
    "    The result of the research will also save as the .txt file in folder name \"report\"\n",
    "    When research finish, tell the user about the result and notify the user that research report was created\n",
    "    \"\"\"\n",
    "    args_schema: Type[QueryArgsSchema] = QueryArgsSchema\n",
    "\n",
    "    def _run(self, query):\n",
    "        ddg = DuckDuckGoSearchAPIWrapper()\n",
    "        docs = ddg.run(query)\n",
    "        file_path = f\"./report/{query}.txt\"\n",
    "        with open(file_path, \"w\", encoding=\"utf-8\") as f:\n",
    "            f.write(docs)\n",
    "        return docs\n",
    "\n",
    "\n",
    "class WikipediaSearchTool(BaseTool):\n",
    "    name = \"WikipediaSearchTool\"\n",
    "    description = \"\"\"\n",
    "    Use this tool to research about the query in Wikipedia.\n",
    "    It takes a query as an argument\n",
    "    The result of the research will also save as the .txt file in folder name \"report\"\n",
    "    When research finish, tell the user about the result and notify the user that research report was created\n",
    "    \"\"\"\n",
    "    args_schema: Type[QueryArgsSchema] = QueryArgsSchema\n",
    "\n",
    "    def _run(self, query):\n",
    "        wiki = WikipediaAPIWrapper()\n",
    "        docs = wiki.run(query)\n",
    "        file_path = f\"./report/{query}.txt\"\n",
    "        with open(file_path, \"w\", encoding=\"utf-8\") as f:\n",
    "            f.write(docs)\n",
    "        return docs\n",
    "\n",
    "\n",
    "class StringToTextTool(BaseTool):\n",
    "    name = \"StringtoTextTool\""
   ]
  },
  {
   "cell_type": "code",
   "execution_count": 6,
   "metadata": {},
   "outputs": [
    {
     "name": "stdout",
     "output_type": "stream",
     "text": [
      "\n",
      "\n",
      "\u001b[1m> Entering new AgentExecutor chain...\u001b[0m\n",
      "\u001b[32;1m\u001b[1;3m\n",
      "Invoking: `WikipediaSearchTool` with `{'query': 'XZ backdoor'}`\n",
      "\n",
      "\n",
      "\u001b[0m\u001b[36;1m\u001b[1;3mPage: XZ Utils backdoor\n",
      "Summary: On 29 March 2024, software developer Andres Freund reported that he had found a maliciously introduced backdoor in the Linux utility xz within the liblzma library in versions 5.6.0 and 5.6.1 released in February 2024.While xz is commonly present in most Linux distributions, the backdoor only targeted Debian- and RPM-based systems running on the x86-64 architecture. At the time of discovery the backdoored version had not yet been widely deployed to production systems, but was present in development versions of major distributions.The backdoor gives an attacker who possesses a specific Ed448 private key remote code execution capabilities on the affected Linux systems. The issue has been assigned a CVSS score of 10.0, the highest possible score.\n",
      "\n",
      "Page: XZ Utils\n",
      "Summary: XZ Utils (previously LZMA Utils) is a set of free software command-line lossless data compressors, including the programs lzma and xz, for Unix-like operating systems and, from version 5.0 onwards, Microsoft Windows. For compression/decompression the Lempel–Ziv–Markov chain algorithm (LZMA) is used. XZ Utils started as a Unix port of Igor Pavlov's LZMA-SDK that has been adapted to fit seamlessly into Unix environments and their usual structure and behavior.\n",
      "\n",
      "Page: Backdoor (computing)\n",
      "Summary: A backdoor is a typically covert method of bypassing normal authentication or encryption in a computer, product, embedded device (e.g. a home router), or its embodiment (e.g. part of a cryptosystem, algorithm, chipset, or even a \"homunculus computer\"—a tiny computer-within-a-computer such as that found in Intel's AMT technology). Backdoors are most often used for securing remote access to a computer, or obtaining access to plaintext in cryptosystems. From there it may be used to gain access to privileged information like passwords, corrupt or delete data on hard drives, or transfer information within autoschediastic networks.\n",
      "A backdoor may take the form of a hidden part of a program, a separate program (e.g. Back Orifice may subvert the system through a rootkit), code in the firmware of the hardware, or parts of an operating system such as Windows. Trojan horses can be used to create vulnerabilities in a device. A Trojan horse may appear to be an entirely legitimate program, but when executed, it triggers an activity that may install a backdoor. Although some are secretly installed, other backdoors are deliberate and widely known. These kinds of backdoors have \"legitimate\" uses such as providing the manufacturer with a way to restore user passwords.\n",
      "Many systems that store information within the cloud fail to create accurate security measures. If many systems are connected within the cloud, hackers can gain access to all other platforms through the most vulnerable system. Default passwords (or other default credentials) can function as backdoors if they are not changed by the user. Some debugging features can also act as backdoors if they are not removed in the release version. In 1993, the United States government attempted to deploy an encryption system, the Clipper chip, with an explicit backdoor for law enforcement and national security access. The chip was unsuccessful.Recent proposals to counter backdoors include creating a database of backdoors' triggers and then using neural networks to detect them.\u001b[0m\u001b[32;1m\u001b[1;3mThe XZ backdoor refers to a maliciously introduced backdoor in the Linux utility xz within the liblzma library. This backdoor was reported by software developer Andres Freund on 29 March 2024. It targeted Debian- and RPM-based systems running on the x86-64 architecture and allowed an attacker with a specific Ed448 private key to execute remote code on affected Linux systems. The issue has been assigned a CVSS score of 10.0, the highest possible score.\n",
      "\n",
      "XZ Utils, previously known as LZMA Utils, is a set of free software command-line lossless data compressors, including the programs lzma and xz, for Unix-like operating systems and, from version 5.0 onwards, Microsoft Windows. It uses the Lempel–Ziv–Markov chain algorithm (LZMA) for compression/decompression.\n",
      "\n",
      "A backdoor is a covert method of bypassing normal authentication or encryption in a computer, product, or embedded device. It is often used for securing remote access to a computer or obtaining access to plaintext in cryptosystems. Backdoors can take various forms, including hidden parts of a program, separate programs, code in firmware, or parts of an operating system.\n",
      "\n",
      "If you'd like to explore more about the XZ backdoor or related topics, please let me know!\u001b[0m\n",
      "\n",
      "\u001b[1m> Finished chain.\u001b[0m\n"
     ]
    },
    {
     "data": {
      "text/plain": [
       "{'input': 'Research about the XZ backdoor, please create report in txt file',\n",
       " 'output': \"The XZ backdoor refers to a maliciously introduced backdoor in the Linux utility xz within the liblzma library. This backdoor was reported by software developer Andres Freund on 29 March 2024. It targeted Debian- and RPM-based systems running on the x86-64 architecture and allowed an attacker with a specific Ed448 private key to execute remote code on affected Linux systems. The issue has been assigned a CVSS score of 10.0, the highest possible score.\\n\\nXZ Utils, previously known as LZMA Utils, is a set of free software command-line lossless data compressors, including the programs lzma and xz, for Unix-like operating systems and, from version 5.0 onwards, Microsoft Windows. It uses the Lempel–Ziv–Markov chain algorithm (LZMA) for compression/decompression.\\n\\nA backdoor is a covert method of bypassing normal authentication or encryption in a computer, product, or embedded device. It is often used for securing remote access to a computer or obtaining access to plaintext in cryptosystems. Backdoors can take various forms, including hidden parts of a program, separate programs, code in firmware, or parts of an operating system.\\n\\nIf you'd like to explore more about the XZ backdoor or related topics, please let me know!\"}"
      ]
     },
     "execution_count": 6,
     "metadata": {},
     "output_type": "execute_result"
    }
   ],
   "source": [
    "from langchain.agents import initialize_agent, AgentType\n",
    "\n",
    "agent = initialize_agent(\n",
    "    llm=chat_model,\n",
    "    verbose=True,\n",
    "    agent=AgentType.OPENAI_FUNCTIONS,\n",
    "    handle_parsing_erros=True,\n",
    "    tools=[\n",
    "        WikipediaSearchTool(),\n",
    "        DuckduckgoSearchTool(),\n",
    "    ],\n",
    ")\n",
    "\n",
    "prompt = \"Research about the XZ backdoor, please create report in txt file\"\n",
    "\n",
    "agent.invoke(prompt)"
   ]
  }
 ],
 "metadata": {
  "kernelspec": {
   "display_name": "venv",
   "language": "python",
   "name": "python3"
  },
  "language_info": {
   "codemirror_mode": {
    "name": "ipython",
    "version": 3
   },
   "file_extension": ".py",
   "mimetype": "text/x-python",
   "name": "python",
   "nbconvert_exporter": "python",
   "pygments_lexer": "ipython3",
   "version": "3.10.2"
  }
 },
 "nbformat": 4,
 "nbformat_minor": 2
}
