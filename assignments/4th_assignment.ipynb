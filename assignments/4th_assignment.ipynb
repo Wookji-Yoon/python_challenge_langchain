{
 "cells": [
  {
   "cell_type": "markdown",
   "metadata": {},
   "source": [
    "Implement a complete RAG pipeline with a Stuff Documents chain.\n",
    "You must implement the chain manually.\n",
    "Give a ConversationBufferMemory to the chain.\n",
    "Use this document to perform RAG: https://gist.github.com/serranoarevalo/5acf755c2b8d83f1707ef266b82ea223\n",
    "Ask the following questions to the chain:\n",
    "Is Aaronson guilty?\n",
    "What message did he write in the table?\n",
    "Who is Julia?\n"
   ]
  },
  {
   "cell_type": "code",
   "execution_count": 1,
   "metadata": {},
   "outputs": [],
   "source": [
    "from langchain.chat_models import ChatOpenAI\n",
    "from langchain.callbacks import StreamingStdOutCallbackHandler\n",
    "\n",
    "model = ChatOpenAI(\n",
    "    temperature=0.1, streaming=True, callbacks=[StreamingStdOutCallbackHandler()]\n",
    ")"
   ]
  },
  {
   "cell_type": "code",
   "execution_count": 2,
   "metadata": {},
   "outputs": [],
   "source": [
    "from langchain.memory import ConversationBufferMemory\n",
    "\n",
    "memory = ConversationBufferMemory(\n",
    "    return_messages=True,\n",
    "    memory_key=\"chat_history\",\n",
    ")\n",
    "\n",
    "\n",
    "def load_memory(_):\n",
    "    return memory.load_memory_variables({})[\"chat_history\"]\n",
    "\n",
    "\n",
    "def invoke_chain_and_save_memory(chain, question):\n",
    "    result = chain.invoke(question)\n",
    "    return memory.save_context(\n",
    "        {\"input\": question},\n",
    "        {\"output\": result.content},\n",
    "    )"
   ]
  },
  {
   "cell_type": "code",
   "execution_count": 3,
   "metadata": {},
   "outputs": [
    {
     "name": "stderr",
     "output_type": "stream",
     "text": [
      "Created a chunk of size 326, which is longer than the specified 300\n",
      "Created a chunk of size 319, which is longer than the specified 300\n",
      "Created a chunk of size 317, which is longer than the specified 300\n",
      "Created a chunk of size 303, which is longer than the specified 300\n",
      "Created a chunk of size 304, which is longer than the specified 300\n",
      "Created a chunk of size 312, which is longer than the specified 300\n",
      "Created a chunk of size 326, which is longer than the specified 300\n"
     ]
    }
   ],
   "source": [
    "from langchain.document_loaders import UnstructuredFileLoader\n",
    "\n",
    "loader = UnstructuredFileLoader(\"./asset/4th/document.txt\")\n",
    "load_docs = loader.load()\n",
    "\n",
    "from langchain.text_splitter import CharacterTextSplitter\n",
    "\n",
    "splitter = CharacterTextSplitter.from_tiktoken_encoder(\n",
    "    separator=\"\\n\",\n",
    "    chunk_size=300,\n",
    "    chunk_overlap=50,\n",
    ")\n",
    "\n",
    "split_docs = splitter.split_documents(documents=load_docs)\n",
    "\n",
    "from langchain.embeddings import OpenAIEmbeddings, CacheBackedEmbeddings\n",
    "from langchain.storage import LocalFileStore\n",
    "\n",
    "embeddings = OpenAIEmbeddings()\n",
    "cache_dir = LocalFileStore(\"./asset/4th/.cache/\")\n",
    "\n",
    "cached_embeddings = CacheBackedEmbeddings.from_bytes_store(embeddings, cache_dir)"
   ]
  },
  {
   "cell_type": "code",
   "execution_count": 4,
   "metadata": {},
   "outputs": [],
   "source": [
    "from langchain.vectorstores import FAISS\n",
    "\n",
    "vectorstore = FAISS.from_documents(split_docs, cached_embeddings)\n",
    "retriever = vectorstore.as_retriever()"
   ]
  },
  {
   "cell_type": "code",
   "execution_count": 21,
   "metadata": {},
   "outputs": [],
   "source": [
    "from langchain.prompts import (\n",
    "    ChatPromptTemplate,\n",
    "    HumanMessagePromptTemplate,\n",
    "    SystemMessagePromptTemplate,\n",
    ")\n",
    "\n",
    "prompt = ChatPromptTemplate(\n",
    "    messages=[\n",
    "        SystemMessagePromptTemplate.from_template(\n",
    "            \"\"\"\n",
    "            Use the following reference document to answer the question of human. \\n\n",
    "            If you don't know the answer, just say that you don't know. Don't try to make up an answer.\\n\n",
    "            \\n\n",
    "            [reference document]\\n\n",
    "            {context}\\n\\n\n",
    "            \"\"\"\n",
    "        ),\n",
    "        SystemMessagePromptTemplate.from_template(\n",
    "            \"\"\"\n",
    "            Below is the chat history\\n\n",
    "            {memory}\\n\\n\n",
    "            \"\"\"\n",
    "        ),\n",
    "        HumanMessagePromptTemplate.from_template(\"{question}\"),\n",
    "    ]\n",
    ")"
   ]
  },
  {
   "cell_type": "code",
   "execution_count": 22,
   "metadata": {},
   "outputs": [],
   "source": [
    "from langchain.schema.runnable import RunnableLambda, RunnablePassthrough\n",
    "\n",
    "\n",
    "def retrieve_docs(question):\n",
    "    docs = retriever.invoke(question)\n",
    "    return \"\\n\".join(doc.page_content for doc in docs)\n",
    "\n",
    "\n",
    "final_chain = (\n",
    "    {\n",
    "        \"context\": RunnableLambda(retrieve_docs),\n",
    "        \"question\": RunnablePassthrough(),\n",
    "        \"memory\": RunnableLambda(load_memory),\n",
    "    }\n",
    "    | prompt\n",
    "    | model\n",
    ")"
   ]
  },
  {
   "cell_type": "code",
   "execution_count": 23,
   "metadata": {},
   "outputs": [
    {
     "name": "stdout",
     "output_type": "stream",
     "text": [
      "Yes, according to the reference document, Jones, Aaronson, and Rutherford were guilty of the crimes they were charged with."
     ]
    }
   ],
   "source": [
    "invoke_chain_and_save_memory(chain=final_chain, question=\"Is Aranson guilty?\")"
   ]
  },
  {
   "cell_type": "code",
   "execution_count": 24,
   "metadata": {},
   "outputs": [
    {
     "name": "stdout",
     "output_type": "stream",
     "text": [
      "The message that Winston wrote on the table was \"FREEDOM IS SLAVERY.\""
     ]
    }
   ],
   "source": [
    "invoke_chain_and_save_memory(\n",
    "    chain=final_chain,\n",
    "    question=\"What message did he write in the table? (Say the name who I refered as 'he'?)\",\n",
    ")"
   ]
  },
  {
   "cell_type": "code",
   "execution_count": 25,
   "metadata": {},
   "outputs": [
    {
     "name": "stdout",
     "output_type": "stream",
     "text": [
      "Julia is a character in the novel referenced in the document. She is a significant figure in the protagonist's life and plays a crucial role in the story."
     ]
    }
   ],
   "source": [
    "invoke_chain_and_save_memory(chain=final_chain, question=\"Who is Julia?\")"
   ]
  },
  {
   "cell_type": "code",
   "execution_count": 26,
   "metadata": {},
   "outputs": [
    {
     "name": "stdout",
     "output_type": "stream",
     "text": [
      "Your previous question was \"Who is Julia?\""
     ]
    }
   ],
   "source": [
    "invoke_chain_and_save_memory(\n",
    "    chain=final_chain, question=\"What was my previous question\"\n",
    ")"
   ]
  }
 ],
 "metadata": {
  "kernelspec": {
   "display_name": "venv",
   "language": "python",
   "name": "python3"
  },
  "language_info": {
   "codemirror_mode": {
    "name": "ipython",
    "version": 3
   },
   "file_extension": ".py",
   "mimetype": "text/x-python",
   "name": "python",
   "nbconvert_exporter": "python",
   "pygments_lexer": "ipython3",
   "version": "3.10.2"
  }
 },
 "nbformat": 4,
 "nbformat_minor": 2
}
