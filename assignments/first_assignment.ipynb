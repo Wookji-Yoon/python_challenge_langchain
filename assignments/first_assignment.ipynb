{
 "cells": [
  {
   "cell_type": "code",
   "execution_count": 4,
   "metadata": {},
   "outputs": [],
   "source": [
    "from langchain.chat_models import ChatOpenAI\n",
    "from langchain.callbacks import StreamingStdOutCallbackHandler\n",
    "\n",
    "model = ChatOpenAI(\n",
    "    temperature=0.1,\n",
    "    streaming=True,\n",
    "    callbacks=[\n",
    "        StreamingStdOutCallbackHandler(),\n",
    "    ],\n",
    ")"
   ]
  },
  {
   "cell_type": "code",
   "execution_count": 9,
   "metadata": {},
   "outputs": [],
   "source": [
    "from langchain.prompts import ChatPromptTemplate\n",
    "\n",
    "poetry_prompt = ChatPromptTemplate.from_messages(\n",
    "    [\n",
    "        (\n",
    "            \"system\",\n",
    "            \"You're a poet who can write poetry on the fly when given a keyword. The poem is profound and figurative, rather than directly revealing the keyword. Your poem should not be too long, about 7-10 sentences.\",\n",
    "        ),\n",
    "        (\"human\", \"Write a poem about {keyword}\"),\n",
    "    ]\n",
    ")\n",
    "\n",
    "linguist_prompt = ChatPromptTemplate.from_messages(\n",
    "    [\n",
    "        (\n",
    "            \"system\",\n",
    "            \"You are a linguist interpreting poetry. You look at a poem and analyze the metaphors and language it contains and, as a result, explain what the poet is trying to say. In particular, you are an expert at interpreting poems about programming languages. At the beginning of your answer, tell us what programming language the poem refers to\",\n",
    "        ),\n",
    "        (\"human\", \"Please explain about a below poem \\n\\n {poem}\"),\n",
    "    ]\n",
    ")"
   ]
  },
  {
   "cell_type": "code",
   "execution_count": 12,
   "metadata": {},
   "outputs": [
    {
     "name": "stdout",
     "output_type": "stream",
     "text": [
      "In the realm where thoughts take flight,\n",
      "A language weaves its web of light.\n",
      "Lines of code like threads of fate,\n",
      "Guiding us through cyberspace.\n",
      "\n",
      "With functions dancing in the night,\n",
      "Variables shimmering in their might.\n",
      "Loops and arrays in cosmic flow,\n",
      "Creating worlds where dreams can grow.\n",
      "\n",
      "Oh, JavaScript, you art divine,\n",
      "Binding ones and zeros in a line.\n",
      "In your syntax, secrets hide,\n",
      "A universe within our stride.This poem is an ode to the programming language JavaScript. The poet uses vivid metaphors to describe the power and beauty of JavaScript in the realm of coding.\n",
      "\n",
      "The first stanza sets the stage by portraying JavaScript as a language that allows thoughts to take flight, weaving a web of light through lines of code that act as threads of fate, guiding us through the vast expanse of cyberspace.\n",
      "\n",
      "The second stanza delves deeper into the intricacies of JavaScript, depicting functions as dancers in the night, variables as shimmering entities of great power, and loops and arrays as elements in a cosmic flow that create worlds where dreams can flourish and grow.\n",
      "\n",
      "The final stanza exalts JavaScript as a divine art form, capable of binding ones and zeros in a line, concealing secrets within its syntax, and offering a universe of possibilities within our reach.\n",
      "\n",
      "Overall, the poem celebrates JavaScript as a versatile and powerful language that enables programmers to create intricate and dynamic digital worlds, while also hinting at the mysteries and complexities that lie beneath its surface."
     ]
    },
    {
     "data": {
      "text/plain": [
       "AIMessageChunk(content='This poem is an ode to the programming language JavaScript. The poet uses vivid metaphors to describe the power and beauty of JavaScript in the realm of coding.\\n\\nThe first stanza sets the stage by portraying JavaScript as a language that allows thoughts to take flight, weaving a web of light through lines of code that act as threads of fate, guiding us through the vast expanse of cyberspace.\\n\\nThe second stanza delves deeper into the intricacies of JavaScript, depicting functions as dancers in the night, variables as shimmering entities of great power, and loops and arrays as elements in a cosmic flow that create worlds where dreams can flourish and grow.\\n\\nThe final stanza exalts JavaScript as a divine art form, capable of binding ones and zeros in a line, concealing secrets within its syntax, and offering a universe of possibilities within our reach.\\n\\nOverall, the poem celebrates JavaScript as a versatile and powerful language that enables programmers to create intricate and dynamic digital worlds, while also hinting at the mysteries and complexities that lie beneath its surface.')"
      ]
     },
     "execution_count": 12,
     "metadata": {},
     "output_type": "execute_result"
    }
   ],
   "source": [
    "poetry_chain = poetry_prompt | model\n",
    "linguist_chain = linguist_prompt | model\n",
    "\n",
    "final_chain = {\"poem\": poetry_chain} | linguist_chain\n",
    "\n",
    "final_chain.invoke({\"keyword\": \"javascript\"})"
   ]
  }
 ],
 "metadata": {
  "kernelspec": {
   "display_name": "venv",
   "language": "python",
   "name": "python3"
  },
  "language_info": {
   "codemirror_mode": {
    "name": "ipython",
    "version": 3
   },
   "file_extension": ".py",
   "mimetype": "text/x-python",
   "name": "python",
   "nbconvert_exporter": "python",
   "pygments_lexer": "ipython3",
   "version": "3.10.2"
  },
  "polyglot_notebook": {
   "kernelInfo": {
    "defaultKernelName": "csharp",
    "items": [
     {
      "aliases": [],
      "name": "csharp"
     }
    ]
   }
  }
 },
 "nbformat": 4,
 "nbformat_minor": 2
}
